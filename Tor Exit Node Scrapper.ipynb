{
 "cells": [
  {
   "cell_type": "code",
   "execution_count": null,
   "metadata": {},
   "outputs": [],
   "source": [
    "import requests\n",
    "from io import StringIO\n",
    "from csv import DictReader\n",
    "from redis import StrictRedis\n",
    "\n",
    "red_cli_server_tor = StrictRedis(db=10)\n",
    "red_cli_exit_nodes = StrictRedis(db=11)"
   ]
  },
  {
   "cell_type": "markdown",
   "metadata": {},
   "source": [
    "# List of exit nodes"
   ]
  },
  {
   "cell_type": "code",
   "execution_count": null,
   "metadata": {},
   "outputs": [],
   "source": [
    "url_current_tor_exit_nodes = 'http://torstatus.blutmagie.de/ip_list_exit.php/Tor_ip_list_EXIT.csv'"
   ]
  },
  {
   "cell_type": "code",
   "execution_count": null,
   "metadata": {},
   "outputs": [],
   "source": [
    "r = requests.get(url_current_tor_exit_nodes,stream=True)\n",
    "all_tor_exit_nodes = [] \n",
    "if r.status_code == requests.codes.ok:\n",
    "    all_tor_exit_nodes = r.raw.read().decode().split('\\n')\n",
    "all_tor_exit_nodes"
   ]
  },
  {
   "cell_type": "code",
   "execution_count": null,
   "metadata": {},
   "outputs": [],
   "source": [
    "for ip in all_tor_exit_nodes:\n",
    "    red_cli_exit_nodes.set(ip,True)"
   ]
  },
  {
   "cell_type": "markdown",
   "metadata": {},
   "source": [
    "# List Current Servers  Tor"
   ]
  },
  {
   "cell_type": "code",
   "execution_count": null,
   "metadata": {},
   "outputs": [],
   "source": [
    "url_list_currrent_tor_server='http://torstatus.blutmagie.de/query_export.php/Tor_query_EXPORT.csv'"
   ]
  },
  {
   "cell_type": "code",
   "execution_count": null,
   "metadata": {},
   "outputs": [],
   "source": [
    "r = requests.get(url_list_currrent_tor_server, stream=True)\n",
    "all_content=''\n",
    "str_io= StringIO()\n",
    "if r.status_code == requests.codes.ok:\n",
    "    all_content=r.raw.read().decode()\n",
    "    \n",
    "io_b = StringIO(all_content)\n"
   ]
  },
  {
   "cell_type": "code",
   "execution_count": null,
   "metadata": {},
   "outputs": [],
   "source": [
    "csv_reader = DictReader(io_b)"
   ]
  },
  {
   "cell_type": "code",
   "execution_count": null,
   "metadata": {},
   "outputs": [],
   "source": [
    "csv_reader.fieldnames"
   ]
  },
  {
   "cell_type": "code",
   "execution_count": null,
   "metadata": {},
   "outputs": [],
   "source": [
    "{ 'Tor servers': [ {'IP Address': row['IP Address'], 'Country Code': row['Country Code'], 'Hostname':row['Hostname']  }\n",
    "                  for row in csv_reader]}"
   ]
  },
  {
   "cell_type": "code",
   "execution_count": null,
   "metadata": {},
   "outputs": [],
   "source": [
    "for entry in _['Tor servers']:\n",
    "    try:\n",
    "        red_cli_server_tor.hset(entry['IP Address'],'IP Address', entry['IP Address'])\n",
    "        red_cli_server_tor.hset(entry['IP Address'],'Hostname',entry['Hostname'])\n",
    "        red_cli_server_tor.hset(entry['IP Address'],'Country Code', entry['Country Code'])\n",
    "    except:\n",
    "        print(entry['IP Address'], entry)\n",
    "    "
   ]
  },
  {
   "cell_type": "code",
   "execution_count": null,
   "metadata": {},
   "outputs": [],
   "source": [
    "red_cli_server_tor.hgetall('198.252.121.79')"
   ]
  },
  {
   "cell_type": "code",
   "execution_count": null,
   "metadata": {},
   "outputs": [],
   "source": [
    "red_cli_server_tor.hset('10.0.0.1','IP Address','10.0.0.1')"
   ]
  },
  {
   "cell_type": "code",
   "execution_count": null,
   "metadata": {},
   "outputs": [],
   "source": []
  }
 ],
 "metadata": {
  "kernelspec": {
   "display_name": "Python 3",
   "language": "python",
   "name": "python3"
  },
  "language_info": {
   "codemirror_mode": {
    "name": "ipython",
    "version": 3
   },
   "file_extension": ".py",
   "mimetype": "text/x-python",
   "name": "python",
   "nbconvert_exporter": "python",
   "pygments_lexer": "ipython3",
   "version": "3.6.3"
  }
 },
 "nbformat": 4,
 "nbformat_minor": 2
}
